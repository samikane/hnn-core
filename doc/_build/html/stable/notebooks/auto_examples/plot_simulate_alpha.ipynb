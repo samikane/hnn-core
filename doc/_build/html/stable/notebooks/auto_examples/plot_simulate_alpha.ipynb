{
  "cells": [
    {
      "cell_type": "code",
      "execution_count": null,
      "metadata": {
        "collapsed": false
      },
      "outputs": [],
      "source": [
        "%matplotlib inline"
      ]
    },
    {
      "cell_type": "markdown",
      "metadata": {},
      "source": [
        "\n# Simulate alpha waves\n\nThis example demonstrates how to simulate alpha waves using\nHNN-core.\n"
      ]
    },
    {
      "cell_type": "code",
      "execution_count": null,
      "metadata": {
        "collapsed": false
      },
      "outputs": [],
      "source": [
        "# Authors: Mainak Jas <mainak.jas@telecom-paristech.fr>\n#          Sam Neymotin <samnemo@gmail.com>\n\nimport os.path as op"
      ]
    },
    {
      "cell_type": "markdown",
      "metadata": {},
      "source": [
        "Let us import hnn_core\n\n"
      ]
    },
    {
      "cell_type": "code",
      "execution_count": null,
      "metadata": {
        "collapsed": false
      },
      "outputs": [],
      "source": [
        "import hnn_core\nfrom hnn_core import simulate_dipole, read_params, Network"
      ]
    },
    {
      "cell_type": "markdown",
      "metadata": {},
      "source": [
        "Then we setup the directories and Neuron\n\n"
      ]
    },
    {
      "cell_type": "code",
      "execution_count": null,
      "metadata": {
        "collapsed": false
      },
      "outputs": [],
      "source": [
        "hnn_core_root = op.dirname(hnn_core.__file__)"
      ]
    },
    {
      "cell_type": "markdown",
      "metadata": {},
      "source": [
        "Then we read the default parameters file\n\n"
      ]
    },
    {
      "cell_type": "code",
      "execution_count": null,
      "metadata": {
        "collapsed": false
      },
      "outputs": [],
      "source": [
        "params_fname = op.join(hnn_core_root, 'param', 'default.json')\nparams = read_params(params_fname)\nprint(params)"
      ]
    },
    {
      "cell_type": "markdown",
      "metadata": {},
      "source": [
        "Now, we update a few parameters\n\n"
      ]
    },
    {
      "cell_type": "code",
      "execution_count": null,
      "metadata": {
        "collapsed": false
      },
      "outputs": [],
      "source": [
        "params.update({\n    'dipole_scalefctr': 150000.0,\n    'dipole_smooth_win': 0,\n    'tstop': 310.0,\n    't0_input_prox': 2000.0,\n    'tstop_input_prox': 310.0,\n    't0_input_dist': 50.0,\n    'tstop_input_dist': 1001.0,\n    't_evprox_1': 1000,\n    'sigma_t_evprox_1': 2.5,\n    't_evprox_2': 2000.0,\n    'sigma_t_evprox_2': 7.0,\n    't_evdist_1': 2000.0,\n    'sigma_t_evdist_1': 6.0,\n    'input_dist_A_weight_L2Pyr_ampa': 5.4e-5,\n    'input_dist_A_weight_L5Pyr_ampa': 5.4e-5,\n    'sync_evinput': 1,\n    \"prng_seedcore_input_dist\": 3\n})"
      ]
    },
    {
      "cell_type": "markdown",
      "metadata": {},
      "source": [
        "And we update all the conductances gbar related to the inputs\nby using the pattern gbar_ev*\n\n"
      ]
    },
    {
      "cell_type": "code",
      "execution_count": null,
      "metadata": {
        "collapsed": false
      },
      "outputs": [],
      "source": [
        "params['gbar_ev*'] = 0.0"
      ]
    },
    {
      "cell_type": "markdown",
      "metadata": {},
      "source": [
        "Now let's simulate the dipole and plot it\n\n"
      ]
    },
    {
      "cell_type": "code",
      "execution_count": null,
      "metadata": {
        "collapsed": false
      },
      "outputs": [],
      "source": [
        "net = Network(params)\ndpl = simulate_dipole(net)\ndpl[0].plot()"
      ]
    },
    {
      "cell_type": "markdown",
      "metadata": {},
      "source": [
        "We can confirm that what we simulate is indeed 10 Hz activity.\n\n"
      ]
    },
    {
      "cell_type": "code",
      "execution_count": null,
      "metadata": {
        "collapsed": false
      },
      "outputs": [],
      "source": [
        "import matplotlib.pyplot as plt\nfrom scipy.signal import spectrogram\nimport numpy as np\nsfreq = 1000. / params['dt']\nn_fft = 1024 * 8\nfreqs, _, psds = spectrogram(\n    dpl[0].data['agg'], sfreq, window='hamming', nfft=n_fft,\n    nperseg=n_fft, noverlap=0)\nplt.figure()\nplt.plot(freqs, np.mean(psds, axis=-1))\nplt.xlim((0, 40))\nplt.xlabel('Frequency (Hz)')\nplt.ylabel('PSD')\nplt.show()"
      ]
    }
  ],
  "metadata": {
    "kernelspec": {
      "display_name": "Python 3",
      "language": "python",
      "name": "python3"
    },
    "language_info": {
      "codemirror_mode": {
        "name": "ipython",
        "version": 3
      },
      "file_extension": ".py",
      "mimetype": "text/x-python",
      "name": "python",
      "nbconvert_exporter": "python",
      "pygments_lexer": "ipython3",
      "version": "3.7.4"
    }
  },
  "nbformat": 4,
  "nbformat_minor": 0
}