{
  "cells": [
    {
      "cell_type": "code",
      "execution_count": null,
      "metadata": {
        "collapsed": false
      },
      "outputs": [],
      "source": [
        "%matplotlib inline"
      ]
    },
    {
      "cell_type": "markdown",
      "metadata": {},
      "source": [
        "\n# Simulate gamma rhythms\n\nThis example demonstrates how to simulate gamma rhythms using hnn-core.\n\nReplicates: https://jonescompneurolab.github.io/hnn-tutorials/gamma/gamma\n"
      ]
    },
    {
      "cell_type": "code",
      "execution_count": null,
      "metadata": {
        "collapsed": false
      },
      "outputs": [],
      "source": [
        "# Authors: Mainak Jas <mainak.jas@telecom-paristech.fr>\n#          Sam Neymotin <samnemo@gmail.com>\n\nimport os.path as op"
      ]
    },
    {
      "cell_type": "markdown",
      "metadata": {},
      "source": [
        "Let us import hnn_core\n\n"
      ]
    },
    {
      "cell_type": "code",
      "execution_count": null,
      "metadata": {
        "collapsed": false
      },
      "outputs": [],
      "source": [
        "import hnn_core\nfrom hnn_core import simulate_dipole, read_params, Network\n\nhnn_core_root = op.dirname(hnn_core.__file__)"
      ]
    },
    {
      "cell_type": "markdown",
      "metadata": {},
      "source": [
        "Then we read the parameters file\n\n"
      ]
    },
    {
      "cell_type": "code",
      "execution_count": null,
      "metadata": {
        "collapsed": false
      },
      "outputs": [],
      "source": [
        "params_fname = op.join(hnn_core_root, 'param', 'gamma_L5weak_L2weak.json')\nparams = read_params(params_fname)\nprint(params)"
      ]
    },
    {
      "cell_type": "markdown",
      "metadata": {},
      "source": [
        "Now let's simulate the dipole\n\n"
      ]
    },
    {
      "cell_type": "code",
      "execution_count": null,
      "metadata": {
        "collapsed": false
      },
      "outputs": [],
      "source": [
        "net = Network(params)\ndpls = simulate_dipole(net, n_trials=1)"
      ]
    },
    {
      "cell_type": "markdown",
      "metadata": {},
      "source": [
        "We can plot the time-frequency response using MNE\n\n"
      ]
    },
    {
      "cell_type": "code",
      "execution_count": null,
      "metadata": {
        "collapsed": false
      },
      "outputs": [],
      "source": [
        "import numpy as np\nimport matplotlib.pyplot as plt\nfrom mne.time_frequency import tfr_array_multitaper\n\nfig, axes = plt.subplots(2, 1, sharex=True, figsize=(6, 6))\ndpls[0].plot(ax=axes[0], layer='agg', show=False)\n\nsfreq = 1000. / params['dt']\ntime_bandwidth = 4.0\nfreqs = np.arange(20., 100., 1.)\nn_cycles = freqs / 4.\n\n# MNE expects an array of shape (n_trials, n_channels, n_times)\ndata = dpls[0].data['agg'][None, None, :]\npower = tfr_array_multitaper(data, sfreq=sfreq, freqs=freqs,\n                             n_cycles=n_cycles,\n                             time_bandwidth=time_bandwidth,\n                             output='power')\n# stop = params['tstop'] + params['dt'] so last point is included\ntimes = np.arange(0, params['tstop'] + params['dt'], params['dt'])\naxes[1].pcolormesh(times, freqs, power[0, 0, ...], cmap='RdBu_r')\naxes[1].set_xlabel('Time (ms)')\naxes[1].set_ylabel('Frequency (Hz)')\nplt.xlim((0, params['tstop']))\nplt.show()"
      ]
    }
  ],
  "metadata": {
    "kernelspec": {
      "display_name": "Python 3",
      "language": "python",
      "name": "python3"
    },
    "language_info": {
      "codemirror_mode": {
        "name": "ipython",
        "version": 3
      },
      "file_extension": ".py",
      "mimetype": "text/x-python",
      "name": "python",
      "nbconvert_exporter": "python",
      "pygments_lexer": "ipython3",
      "version": "3.7.4"
    }
  },
  "nbformat": 4,
  "nbformat_minor": 0
}