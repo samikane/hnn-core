{
  "cells": [
    {
      "cell_type": "code",
      "execution_count": null,
      "metadata": {
        "collapsed": false
      },
      "outputs": [],
      "source": [
        "%matplotlib inline"
      ]
    },
    {
      "cell_type": "markdown",
      "metadata": {},
      "source": [
        "\n# Simulate dipole\n\nThis example demonstrates how to simulate a dipole for evoked-like\nwaveforms using HNN-core.\n"
      ]
    },
    {
      "cell_type": "code",
      "execution_count": null,
      "metadata": {
        "collapsed": false
      },
      "outputs": [],
      "source": [
        "# Authors: Mainak Jas <mainak.jas@telecom-paristech.fr>\n#          Sam Neymotin <samnemo@gmail.com>\n#          Blake Caldwell <blake_caldwell@brown.edu>\n\nimport os.path as op\nimport tempfile"
      ]
    },
    {
      "cell_type": "markdown",
      "metadata": {},
      "source": [
        "Let us import hnn_core\n\n"
      ]
    },
    {
      "cell_type": "code",
      "execution_count": null,
      "metadata": {
        "collapsed": false
      },
      "outputs": [],
      "source": [
        "import hnn_core\nfrom hnn_core import simulate_dipole, read_params, Network, read_spikes\nfrom hnn_core.viz import plot_dipole\n\nhnn_core_root = op.dirname(hnn_core.__file__)"
      ]
    },
    {
      "cell_type": "markdown",
      "metadata": {},
      "source": [
        "Then we read the parameters file\n\n"
      ]
    },
    {
      "cell_type": "code",
      "execution_count": null,
      "metadata": {
        "collapsed": false
      },
      "outputs": [],
      "source": [
        "params_fname = op.join(hnn_core_root, 'param', 'default.json')\nparams = read_params(params_fname)\nprint(params)"
      ]
    },
    {
      "cell_type": "markdown",
      "metadata": {},
      "source": [
        "This is a lot of parameters! We can also filter the\nparameters using unix-style wildcard characters\n\n"
      ]
    },
    {
      "cell_type": "code",
      "execution_count": null,
      "metadata": {
        "collapsed": false
      },
      "outputs": [],
      "source": [
        "print(params['L2Pyr_soma*'])"
      ]
    },
    {
      "cell_type": "markdown",
      "metadata": {},
      "source": [
        "Let us first create our network from the params file and visualize the cells\ninside it.\n\n"
      ]
    },
    {
      "cell_type": "code",
      "execution_count": null,
      "metadata": {
        "collapsed": false
      },
      "outputs": [],
      "source": [
        "net = Network(params)\nnet.plot_cells()"
      ]
    },
    {
      "cell_type": "markdown",
      "metadata": {},
      "source": [
        "Now let's simulate the dipole, running 2 trials with the Joblib backend.\nTo run them in parallel we could set n_jobs to equal the number of trials.\n\n"
      ]
    },
    {
      "cell_type": "code",
      "execution_count": null,
      "metadata": {
        "collapsed": false
      },
      "outputs": [],
      "source": [
        "from hnn_core import JoblibBackend\n\nwith JoblibBackend(n_jobs=1):\n    dpls = simulate_dipole(net, n_trials=2)"
      ]
    },
    {
      "cell_type": "markdown",
      "metadata": {},
      "source": [
        "and then plot it\n\n"
      ]
    },
    {
      "cell_type": "code",
      "execution_count": null,
      "metadata": {
        "collapsed": false
      },
      "outputs": [],
      "source": [
        "import matplotlib.pyplot as plt\nfig, axes = plt.subplots(2, 1, sharex=True, figsize=(6, 6))\nplot_dipole(dpls, ax=axes[0], layer='agg', show=False)\nnet.spikes.plot_hist(ax=axes[1], spike_types=['evprox', 'evdist'])"
      ]
    },
    {
      "cell_type": "markdown",
      "metadata": {},
      "source": [
        "Also, we can plot the spikes and write them to txt files.\nNote that we can use formatting syntax to specify the filename pattern\nwith which each trial will be written. To read spikes back in, we can use\nwildcard expressions.\n\n"
      ]
    },
    {
      "cell_type": "code",
      "execution_count": null,
      "metadata": {
        "collapsed": false
      },
      "outputs": [],
      "source": [
        "net.spikes.plot()\nwith tempfile.TemporaryDirectory() as tmp_dir_name:\n    net.spikes.write(op.join(tmp_dir_name, 'spk_%d.txt'))\n    spikes = read_spikes(op.join(tmp_dir_name, 'spk_*.txt'))\nspikes.plot()"
      ]
    },
    {
      "cell_type": "markdown",
      "metadata": {},
      "source": [
        "We can additionally calculate the mean spike rates for each cell class by\nspecifying a time window with tstart and tstop.\n\n"
      ]
    },
    {
      "cell_type": "code",
      "execution_count": null,
      "metadata": {
        "collapsed": false
      },
      "outputs": [],
      "source": [
        "all_rates = spikes.mean_rates(tstart=0, tstop=170, gid_dict=net.gid_dict,\n                              mean_type='all')\ntrial_rates = spikes.mean_rates(tstart=0, tstop=170, gid_dict=net.gid_dict,\n                                mean_type='trial')\nprint('Mean spike rates across trials:')\nprint(all_rates)\nprint('Mean spike rates for individual trials:')\nprint(trial_rates)"
      ]
    },
    {
      "cell_type": "markdown",
      "metadata": {},
      "source": [
        "Now, let us try to make the exogenous driving inputs to the cells\nsynchronous and see what happens\n\n"
      ]
    },
    {
      "cell_type": "code",
      "execution_count": null,
      "metadata": {
        "collapsed": false
      },
      "outputs": [],
      "source": [
        "params.update({'sync_evinput': True})\nnet_sync = Network(params)"
      ]
    },
    {
      "cell_type": "markdown",
      "metadata": {},
      "source": [
        "Next, let's simulate a single trial using the MPI backend. This will\nstart the simulation trial across the number of processors (cores)\nspecified by n_procs using MPI. The 'mpiexec' launcher is for\nopenmpi, which must be installed on the system\n\n"
      ]
    },
    {
      "cell_type": "code",
      "execution_count": null,
      "metadata": {
        "collapsed": false
      },
      "outputs": [],
      "source": [
        "from hnn_core import MPIBackend\n\nwith MPIBackend(n_procs=2, mpi_cmd='mpiexec'):\n    dpls_sync = simulate_dipole(net_sync, n_trials=1)\n\ndpls_sync[0].plot()\nnet_sync.spikes.plot_hist()"
      ]
    }
  ],
  "metadata": {
    "kernelspec": {
      "display_name": "Python 3",
      "language": "python",
      "name": "python3"
    },
    "language_info": {
      "codemirror_mode": {
        "name": "ipython",
        "version": 3
      },
      "file_extension": ".py",
      "mimetype": "text/x-python",
      "name": "python",
      "nbconvert_exporter": "python",
      "pygments_lexer": "ipython3",
      "version": "3.7.4"
    }
  },
  "nbformat": 4,
  "nbformat_minor": 0
}