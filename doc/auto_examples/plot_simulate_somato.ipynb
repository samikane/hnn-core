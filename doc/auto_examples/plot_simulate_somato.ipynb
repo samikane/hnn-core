{
  "cells": [
    {
      "cell_type": "code",
      "execution_count": null,
      "metadata": {
        "collapsed": false
      },
      "outputs": [],
      "source": [
        "%matplotlib inline"
      ]
    },
    {
      "cell_type": "markdown",
      "metadata": {},
      "source": [
        "\n# Simulate somato data\n\nThis example demonstrates how to simulate the source time\ncourses obtained during median nerve stimulation in the MNE\nsomatosensory dataset.\n"
      ]
    },
    {
      "cell_type": "code",
      "execution_count": null,
      "metadata": {
        "collapsed": false
      },
      "outputs": [],
      "source": [
        "# Authors: Mainak Jas <mainakjas@gmail.com>\n#          Ryan Thorpe <ryan_thorpe@brown.edu>"
      ]
    },
    {
      "cell_type": "markdown",
      "metadata": {},
      "source": [
        "First, we will import the packages and define the paths\n\n"
      ]
    },
    {
      "cell_type": "code",
      "execution_count": null,
      "metadata": {
        "collapsed": false
      },
      "outputs": [],
      "source": [
        "import os.path as op\nimport numpy as np\nimport matplotlib.pyplot as plt\n\nimport mne\nfrom mne.datasets import somato\nfrom mne.minimum_norm import apply_inverse, make_inverse_operator\n\ndata_path = somato.data_path()\nsubject = '01'\ntask = 'somato'\nraw_fname = op.join(data_path, 'sub-{}'.format(subject), 'meg',\n                    'sub-{}_task-{}_meg.fif'.format(subject, task))\nfwd_fname = op.join(data_path, 'derivatives', 'sub-{}'.format(subject),\n                    'sub-{}_task-{}-fwd.fif'.format(subject, task))\nsubjects_dir = op.join(data_path, 'derivatives', 'freesurfer', 'subjects')"
      ]
    },
    {
      "cell_type": "markdown",
      "metadata": {},
      "source": [
        "Then, we get the raw data and estimage the source time course\n\n"
      ]
    },
    {
      "cell_type": "code",
      "execution_count": null,
      "metadata": {
        "collapsed": false
      },
      "outputs": [],
      "source": [
        "raw = mne.io.read_raw_fif(raw_fname, preload=True)\nraw.filter(1, 40)\n\nevents = mne.find_events(raw, stim_channel='STI 014')\nevent_id, tmin, tmax = 1, -.2, .15\nbaseline = None\nepochs = mne.Epochs(raw, events, event_id, tmin, tmax, baseline=baseline,\n                    reject=dict(grad=4000e-13, eog=350e-6), preload=True)\nevoked = epochs.average()\n\nfwd = mne.read_forward_solution(fwd_fname)\ncov = mne.compute_covariance(epochs)\ninv = make_inverse_operator(epochs.info, fwd, cov)\n\nmethod = \"MNE\"\nsnr = 3.\nlambda2 = 1. / snr ** 2\nstc = apply_inverse(evoked, inv, lambda2, method=method, pick_ori=\"normal\",\n                    return_residual=False, verbose=True)\n\npick_vertex = np.argmax(np.linalg.norm(stc.data, axis=1))\n\nplt.figure()\nplt.plot(1e3 * stc.times, stc.data[pick_vertex, :].T * 1e9, 'ro-')\nplt.xlabel('time (ms)')\nplt.ylabel('%s value (nAM)' % method)\nplt.xlim((0, 150))\nplt.axhline(0)\nplt.show()"
      ]
    },
    {
      "cell_type": "markdown",
      "metadata": {},
      "source": [
        "Now, let us try to simulate the same with MNE-neuron\n\n"
      ]
    },
    {
      "cell_type": "code",
      "execution_count": null,
      "metadata": {
        "collapsed": false
      },
      "outputs": [],
      "source": [
        "import os.path as op\n\nimport hnn_core\nfrom hnn_core import simulate_dipole, read_params, Network\n\nhnn_core_root = op.dirname(hnn_core.__file__)\n\nparams_fname = op.join(hnn_core_root, 'param', 'N20.json')\nparams = read_params(params_fname)\n\nnet = Network(params)\ndpl = simulate_dipole(net, n_trials=1)\n\nimport matplotlib.pyplot as plt\nfig, axes = plt.subplots(2, 1, sharex=True, figsize=(6, 6))\ndpl[0].plot(ax=axes[0], show=False)\nnet.spikes.plot_hist(ax=axes[1])\nnet.spikes.plot()"
      ]
    }
  ],
  "metadata": {
    "kernelspec": {
      "display_name": "Python 3",
      "language": "python",
      "name": "python3"
    },
    "language_info": {
      "codemirror_mode": {
        "name": "ipython",
        "version": 3
      },
      "file_extension": ".py",
      "mimetype": "text/x-python",
      "name": "python",
      "nbconvert_exporter": "python",
      "pygments_lexer": "ipython3",
      "version": "3.7.4"
    }
  },
  "nbformat": 4,
  "nbformat_minor": 0
}